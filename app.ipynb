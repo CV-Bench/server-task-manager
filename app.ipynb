{
 "cells": [
  {
   "cell_type": "code",
   "execution_count": 1,
   "metadata": {},
   "outputs": [],
   "source": [
    "import docker"
   ]
  },
  {
   "cell_type": "code",
   "execution_count": 2,
   "metadata": {},
   "outputs": [],
   "source": [
    "docker_client = docker.from_env()"
   ]
  },
  {
   "cell_type": "code",
   "execution_count": 4,
   "metadata": {},
   "outputs": [],
   "source": [
    "x = docker_client.containers.list()[0]"
   ]
  },
  {
   "cell_type": "code",
   "execution_count": 8,
   "metadata": {},
   "outputs": [
    {
     "data": {
      "text/plain": [
       "True"
      ]
     },
     "execution_count": 8,
     "metadata": {},
     "output_type": "execute_result"
    }
   ],
   "source": [
    "x in docker_client.containers.list()"
   ]
  },
  {
   "cell_type": "code",
   "execution_count": 11,
   "metadata": {},
   "outputs": [
    {
     "data": {
      "text/plain": [
       "'running'"
      ]
     },
     "execution_count": 11,
     "metadata": {},
     "output_type": "execute_result"
    }
   ],
   "source": [
    "x.status"
   ]
  },
  {
   "cell_type": "code",
   "execution_count": 7,
   "metadata": {},
   "outputs": [
    {
     "name": "stdout",
     "output_type": "stream",
     "text": [
      "b'k:0.06M | Scene, ViewLayer | Updating Mesh | Copying Mesh to device\\nFra:1 Mem:21.77M (Peak 39.10M) | Time:00:00.16 | Mem:0.17M, Peak:0.17M | Scene, ViewLayer | Updating Objects Flags\\nFra:1 Mem:21.77M (Peak 39.10M) | Time:00:00.16 | Mem:0.17M, Peak:0.17M | Scene, ViewLayer | Updating Primitive Offsets\\nFra:1 Mem:21.77M (Peak 39.10M) | Time:00:00.16 | Mem:0.17M, Peak:0.17M | Scene, ViewLayer | Updating Images\\nFra:1 Mem:21.77M (Peak 39.10M) | Time:00:00.16 | Mem:0.17M, Peak:0.17M | Scene, ViewLayer | Updating Images | Loading machine_shop_01_2k.hdr\\nFra:1 Mem:53.79M (Peak 53.79M) | Time:00:00.22 | Mem:32.17M, Peak:32.17M | Scene, ViewLayer | Updating Camera Volume\\nFra:1 Mem:53.79M (Peak 53.79M) | Time:00:00.22 | Mem:32.17M, Peak:32.17M | Scene, ViewLayer | Updating Lookup Tables\\nFra:1 Mem:53.79M (Peak 53.79M) | Time:00:00.22 | Mem:32.42M, Peak:32.42M | Scene, ViewLayer | Updating Lights\\nFra:1 Mem:53.79M (Peak 53.79M) | Time:00:00.22 | Mem:32.42M, Peak:32.42M | Scene, ViewLayer | Updating Lights | Computing distribution\\nFra:1 Mem:53.79M (Peak 53.79M) | Time:00:00.22 | Mem:32.42M, Peak:32.42M | Scene, ViewLayer | Updating Lights | Importance map\\nFra:1 Mem:117.82M (Peak 405.79M) | Time:00:00.56 | Mem:96.47M, Peak:256.44M | Scene, ViewLayer | Updating Integrator\\nFra:1 Mem:117.82M (Peak 405.79M) | Time:00:00.56 | Mem:96.47M, Peak:256.44M | Scene, ViewLayer | Updating Film\\nFra:1 Mem:117.83M (Peak 405.79M) | Time:00:00.56 | Mem:96.22M, Peak:256.44M | Scene, ViewLayer | Updating Lookup Tables\\nFra:1 Mem:117.83M (Peak 405.79M) | Time:00:00.56 | Mem:96.48M, Peak:256.44M | Scene, ViewLayer | Updating Baking\\nFra:1 Mem:117.83M (Peak 405.79M) | Time:00:00.56 | Mem:96.48M, Peak:256.44M | Scene, ViewLayer | Updating Device | Writing constant memory\\nFra:1 Mem:121.83M (Peak 405.79M) | Time:00:00.59 | Mem:416.48M, Peak:416.48M | Scene, ViewLayer | Sample 0/256\\nFra:1 Mem:129.74M (Peak 405.79M) | Time:00:00.60 | Remaining:00:01.11 | Mem:424.39M, Peak:424.39M | Scene, ViewLayer | Sample 1/256\\n'\n"
     ]
    }
   ],
   "source": [
    "print(x.logs()[-2000:])"
   ]
  },
  {
   "cell_type": "code",
   "execution_count": 8,
   "metadata": {},
   "outputs": [],
   "source": [
    "for event in docker_client.events(decode=True):\n",
    "    print(event)    "
   ]
  }
 ],
 "metadata": {
  "kernelspec": {
   "display_name": "blockseminar",
   "language": "python",
   "name": "python3"
  },
  "language_info": {
   "codemirror_mode": {
    "name": "ipython",
    "version": 3
   },
   "file_extension": ".py",
   "mimetype": "text/x-python",
   "name": "python",
   "nbconvert_exporter": "python",
   "pygments_lexer": "ipython3",
   "version": "3.10.9"
  },
  "orig_nbformat": 4,
  "vscode": {
   "interpreter": {
    "hash": "b6b147576a31c4ccfc2316c1329fa17707354148b103a57a185206d01801908c"
   }
  }
 },
 "nbformat": 4,
 "nbformat_minor": 2
}
